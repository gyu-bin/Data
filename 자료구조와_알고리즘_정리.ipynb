{
  "nbformat": 4,
  "nbformat_minor": 0,
  "metadata": {
    "colab": {
      "provenance": [],
      "authorship_tag": "ABX9TyMAiqA1TSCbvYMlt/by8Syo",
      "include_colab_link": true
    },
    "kernelspec": {
      "name": "python3",
      "display_name": "Python 3"
    },
    "language_info": {
      "name": "python"
    }
  },
  "cells": [
    {
      "cell_type": "markdown",
      "metadata": {
        "id": "view-in-github",
        "colab_type": "text"
      },
      "source": [
        "<a href=\"https://colab.research.google.com/github/gyu-bin/Data/blob/main/%EC%9E%90%EB%A3%8C%EA%B5%AC%EC%A1%B0%EC%99%80_%EC%95%8C%EA%B3%A0%EB%A6%AC%EC%A6%98_%EC%A0%95%EB%A6%AC.ipynb\" target=\"_parent\"><img src=\"https://colab.research.google.com/assets/colab-badge.svg\" alt=\"Open In Colab\"/></a>"
      ]
    },
    {
      "cell_type": "markdown",
      "source": [
        "# **🔹 자료구조와 알고리즘 (Data Structures & Algorithms)**\n",
        "자료구조와 알고리즘은 효율적인 프로그래밍을 위해 반드시 필요한 개념입니다. 특히 데이터 분석가나 머신러닝 엔지니어가 된다면 데이터 처리 속도를 최적화하기 위해 반드시 숙지해야 합니다.\n",
        "\n",
        "1️⃣ 자료구조 (Data Structures)\n",
        "\n",
        "자료구조는 데이터를 어떻게 저장하고, 검색하고, 수정할 것인지에 대한 방법을 정의합니다.\n",
        "\n",
        "자료구조\t      설명\t            예제\n",
        "\n",
        "**배열(Array)**\t고정된 크기의 연속된 메모리 블록에 데이터를 저장\tarr = [1, 2, 3, 4]\n",
        "\n",
        "**리스트(List)**\t크기가 동적으로 변경 가능한 배열 형태\tlst = [10, 20, 30]\n",
        "\n",
        "**스택(Stack)**\t후입선출(LIFO) 구조, push(), pop() 메서드\tstack.append(5), stack.pop()\n",
        "\n",
        "**큐(Queue)**\t선입선출(FIFO) 구조, enqueue(), dequeue()\tqueue.append(1), queue.pop(0)\n",
        "\n",
        "**힙(Heap)**\t우선순위 큐 구현에 사용되는 자료구조\theapq.heappush(heap, value)\n",
        "\n",
        "**해시테이블(Hash Table)**\t키-값 쌍을 빠르게 저장하고 검색\tdict = {'A': 10, 'B': 20}\n",
        "\n",
        "**그래프(Graph)**\t노드와 간선으로 이루어진 구조\tG = nx.Graph()"
      ],
      "metadata": {
        "id": "sVNPgSjVKIkT"
      }
    },
    {
      "cell_type": "code",
      "execution_count": null,
      "metadata": {
        "colab": {
          "base_uri": "https://localhost:8080/"
        },
        "id": "mvub8RSLI8_B",
        "outputId": "d957ad3e-e57e-4811-8364-a337e824ecc3"
      },
      "outputs": [
        {
          "output_type": "stream",
          "name": "stdout",
          "text": [
            "1\n",
            "3\n"
          ]
        }
      ],
      "source": [
        "import heapq\n",
        "\n",
        "# 최소 힙 예제\n",
        "heap = []\n",
        "heapq.heappush(heap, 5)\n",
        "heapq.heappush(heap, 1)\n",
        "heapq.heappush(heap, 3)\n",
        "\n",
        "print(heapq.heappop(heap))  # 1\n",
        "print(heapq.heappop(heap))  # 3\n"
      ]
    },
    {
      "cell_type": "markdown",
      "source": [
        "# **🔹 탐색 알고리즘 (DFS/BFS)**\n",
        "**DFS (깊이 우선 탐색)**: 재귀 또는 스택을 사용하여 한 경로를 끝까지 탐색 후 백트래킹\n",
        "\n",
        "**BFS (너비 우선 탐색)**: 큐를 사용하여 가까운 노드부터 탐색"
      ],
      "metadata": {
        "id": "wlH5OtCFMVu1"
      }
    },
    {
      "cell_type": "code",
      "source": [
        "from collections import deque\n",
        "\n",
        "graph = {\n",
        "    'A': ['B', 'C'],\n",
        "    'B': ['A', 'D', 'E'],\n",
        "    'C': ['A', 'F'],\n",
        "    'D': ['B'],\n",
        "    'E': ['B', 'F'],\n",
        "    'F': ['C', 'E']\n",
        "}\n",
        "\n",
        "# DFS 구현\n",
        "def dfs(node, visited):\n",
        "    if node not in visited:\n",
        "        print(node, end=' ')\n",
        "        visited.add(node)\n",
        "        for neighbor in graph[node]:\n",
        "            dfs(neighbor, visited)\n",
        "\n",
        "# BFS 구현\n",
        "def bfs(start):\n",
        "    visited = set()\n",
        "    queue = deque([start])\n",
        "    while queue:\n",
        "        node = queue.popleft()\n",
        "        if node not in visited:\n",
        "            print(node, end=' ')\n",
        "            visited.add(node)\n",
        "            queue.extend(graph[node])\n",
        "\n",
        "print(\"DFS:\", end=\" \")\n",
        "dfs('A', set())\n",
        "print(\"\\nBFS:\", end=\" \")\n",
        "bfs('A')\n"
      ],
      "metadata": {
        "colab": {
          "base_uri": "https://localhost:8080/"
        },
        "id": "2I1cMaIYMerx",
        "outputId": "e70c06b8-321a-4014-e8fa-fb8a6a002d50"
      },
      "execution_count": null,
      "outputs": [
        {
          "output_type": "stream",
          "name": "stdout",
          "text": [
            "DFS: A B D E F C \n",
            "BFS: A B C D E F "
          ]
        }
      ]
    },
    {
      "cell_type": "markdown",
      "source": [
        "# **2️⃣ 알고리즘 (Algorithms)**\n",
        "알고리즘은 데이터를 조작하는 방법입니다. 주어진 문제를 해결하는 최적의 방식이 무엇인지 학습해야 합니다.\n",
        "\n",
        "알고리즘\t설명\t시간복잡도\n",
        "\n",
        "**정렬 (Sorting)** -\t데이터 정렬 (버블, 퀵, 힙 정렬)-\tO(n log n)\n",
        "\n",
        "**탐색 (Searching)**-\t원하는 데이터 찾기 (이진 탐색)-\tO(log n)\n",
        "\n",
        "**최단 경로 (Dijkstra)**-\t최소 비용으로 이동하는 경로 찾기-\tO(E log V)\n",
        "\n",
        "**트리 순회 (Tree Traversal)**-\t트리 구조를 순회하는 방법 (DFS, BFS)-\tO(n)\n",
        "\n",
        "📌 다익스트라 최단 경로 알고리즘\n"
      ],
      "metadata": {
        "id": "OAhVPmeBLEBo"
      }
    },
    {
      "cell_type": "code",
      "source": [
        "import heapq\n",
        "\n",
        "def dijkstra(graph, start):\n",
        "    queue = []\n",
        "    heapq.heappush(queue, (0, start))\n",
        "    distances = {node: float('inf') for node in graph}\n",
        "    distances[start] = 0\n",
        "\n",
        "    while queue:\n",
        "        current_distance, current_node = heapq.heappop(queue)\n",
        "\n",
        "        if current_distance > distances[current_node]:\n",
        "            continue\n",
        "\n",
        "        for adjacent, weight in graph[current_node].items():\n",
        "            distance = current_distance + weight\n",
        "            if distance < distances[adjacent]:\n",
        "                distances[adjacent] = distance\n",
        "                heapq.heappush(queue, (distance, adjacent))\n",
        "\n",
        "    return distances\n",
        "\n",
        "graph = {\n",
        "    'A': {'B': 1, 'C': 4},\n",
        "    'B': {'A': 1, 'C': 2, 'D': 5},\n",
        "    'C': {'A': 4, 'B': 2, 'D': 1},\n",
        "    'D': {'B': 5, 'C': 1}\n",
        "}\n",
        "\n",
        "print(dijkstra(graph, 'A'))\n"
      ],
      "metadata": {
        "colab": {
          "base_uri": "https://localhost:8080/"
        },
        "id": "z7Y9-zFhLXaq",
        "outputId": "85c0c3fa-7648-4ec1-8705-6f98b67f8552"
      },
      "execution_count": null,
      "outputs": [
        {
          "output_type": "stream",
          "name": "stdout",
          "text": [
            "{'A': 0, 'B': 1, 'C': 3, 'D': 4}\n"
          ]
        }
      ]
    },
    {
      "cell_type": "markdown",
      "source": [
        "# **🔹 머신러닝과 데이터 분석에서의 필수 개념**\n",
        "\n",
        "# **3️⃣ 시계열 분석 (Time Series Analysis)**\n",
        "\n",
        "시계열 데이터는 시간에 따라 변화하는 데이터를 의미합니다.\n",
        "\n",
        "주요 기법\t설명\n",
        "\n",
        "**이동 평균**\t- 과거 데이터를 기반으로 평균을 계산하여 트렌드를 분석\n",
        "\n",
        "**ARIMA** -\t시계열 데이터를 예측하는 대표적인 통계 모델\n",
        "\n",
        "**LSTM** -\t딥러닝 기반의 시계열 예측 모델"
      ],
      "metadata": {
        "id": "N9DI86kTL1ro"
      }
    },
    {
      "cell_type": "code",
      "source": [
        "import pandas as pd\n",
        "import numpy as np\n",
        "import matplotlib.pyplot as plt\n",
        "\n",
        "# 가상의 시계열 데이터 생성\n",
        "date_rng = pd.date_range(start='2025-01-01', periods=100, freq='D')\n",
        "df = pd.DataFrame(date_rng, columns=['date'])\n",
        "df['value'] = np.random.randn(100).cumsum()  # 누적합 형태의 랜덤 데이터\n",
        "\n",
        "# 이동 평균 추가\n",
        "df['moving_avg'] = df['value'].rolling(window=7).mean()\n",
        "\n",
        "# 시각화\n",
        "plt.figure(figsize=(12,6))\n",
        "plt.plot(df['date'], df['value'], label=\"Actual Data\")\n",
        "plt.plot(df['date'], df['moving_avg'], label=\"Moving Average\", linestyle=\"dashed\")\n",
        "plt.legend()\n",
        "plt.show()\n"
      ],
      "metadata": {
        "colab": {
          "base_uri": "https://localhost:8080/",
          "height": 522
        },
        "id": "xIDxEaLWMFbO",
        "outputId": "5ca0f2bf-f0f6-4238-83ec-6c7a00044f7e"
      },
      "execution_count": null,
      "outputs": [
        {
          "output_type": "display_data",
          "data": {
            "text/plain": [
              "<Figure size 1200x600 with 1 Axes>"
            ],
            "image/png": "[encoded data removed]"
          },
          "metadata": {}
        }
      ]
    },
    {
      "cell_type": "markdown",
      "source": [
        "# **4️⃣ 연관 분석 (Association Rule Mining)**\n",
        "연관 분석은 장바구니 분석에 활용되며, Apriori 알고리즘을 사용하여 항목 간의 관계를 분석합니다.\n",
        "\n",
        "개념\t설명\n",
        "**지지도(Support)**\t-특정 아이템이 등장하는 비율\n",
        "\n",
        "**신뢰도(Confidence)**-\tA가 나왔을 때 B가 함께 나올 확률\n",
        "\n",
        "**향상도(Lift)**-\tA와 B가 독립적인 관계인지 확인"
      ],
      "metadata": {
        "id": "Q4zLKQuiMjLa"
      }
    },
    {
      "cell_type": "code",
      "source": [
        "from mlxtend.frequent_patterns import apriori, association_rules\n",
        "import pandas as pd\n",
        "\n",
        "# 가상의 트랜잭션 데이터 생성\n",
        "data = {'milk': [1, 1, 0, 1, 0],\n",
        "        'bread': [1, 0, 1, 1, 1],\n",
        "        'butter': [0, 1, 1, 1, 1]}\n",
        "\n",
        "df = pd.DataFrame(data)\n",
        "\n",
        "# Apriori 알고리즘 적용\n",
        "frequent_itemsets = apriori(df, min_support=0.3, use_colnames=True)\n",
        "\n",
        "# 연관 규칙 도출\n",
        "rules = association_rules(frequent_itemsets, metric=\"lift\", min_threshold=1)\n",
        "print(rules)\n"
      ],
      "metadata": {
        "colab": {
          "base_uri": "https://localhost:8080/"
        },
        "id": "KoYMQQ73Mt3d",
        "outputId": "5cf66ca0-f324-44e2-eee7-4829366daa24"
      },
      "execution_count": null,
      "outputs": [
        {
          "output_type": "stream",
          "name": "stdout",
          "text": [
            "Empty DataFrame\n",
            "Columns: [antecedents, consequents, antecedent support, consequent support, support, confidence, lift, representativity, leverage, conviction, zhangs_metric, jaccard, certainty, kulczynski]\n",
            "Index: []\n"
          ]
        },
        {
          "output_type": "stream",
          "name": "stderr",
          "text": [
            "/usr/local/lib/python3.11/dist-packages/mlxtend/frequent_patterns/fpcommon.py:161: DeprecationWarning: DataFrames with non-bool types result in worse computationalperformance and their support might be discontinued in the future.Please use a DataFrame with bool type\n",
            "  warnings.warn(\n"
          ]
        }
      ]
    },
    {
      "cell_type": "code",
      "source": [
        "#상품 간 연관성을 분석하여, 추천 시스템이나 장바구니 분석 등에 사용됩니다.\n",
        "import pandas as pd\n",
        "from mlxtend.frequent_patterns import apriori, association_rules\n",
        "\n",
        "# 가상의 거래 데이터 생성\n",
        "df = pd.DataFrame([\n",
        "    [1, 1, 0, 1],\n",
        "    [0, 1, 1, 1],\n",
        "    [1, 0, 1, 0],\n",
        "    [1, 1, 1, 1]\n",
        "], columns=['우유', '빵', '버터', '과자'])\n",
        "\n",
        "# Apriori 알고리즘 적용\n",
        "frequent_itemsets = apriori(df, min_support=0.5, use_colnames=True)\n",
        "rules = association_rules(frequent_itemsets, metric=\"lift\", min_threshold=1)\n",
        "\n",
        "print(rules[['antecedents', 'consequents', 'support', 'confidence', 'lift']])\n"
      ],
      "metadata": {
        "colab": {
          "base_uri": "https://localhost:8080/"
        },
        "id": "4cKBh1tpM8Uh",
        "outputId": "0f2c9ff4-6c83-4369-b701-24fe090cce57"
      },
      "execution_count": null,
      "outputs": [
        {
          "output_type": "stream",
          "name": "stdout",
          "text": [
            "  antecedents consequents  support  confidence      lift\n",
            "0        (과자)         (빵)     0.75    1.000000  1.333333\n",
            "1         (빵)        (과자)     0.75    1.000000  1.333333\n",
            "2    (과자, 우유)         (빵)     0.50    1.000000  1.333333\n",
            "3     (빵, 우유)        (과자)     0.50    1.000000  1.333333\n",
            "4        (과자)     (빵, 우유)     0.50    0.666667  1.333333\n",
            "5         (빵)    (과자, 우유)     0.50    0.666667  1.333333\n",
            "6    (과자, 버터)         (빵)     0.50    1.000000  1.333333\n",
            "7     (버터, 빵)        (과자)     0.50    1.000000  1.333333\n",
            "8        (과자)     (버터, 빵)     0.50    0.666667  1.333333\n",
            "9         (빵)    (과자, 버터)     0.50    0.666667  1.333333\n"
          ]
        },
        {
          "output_type": "stream",
          "name": "stderr",
          "text": [
            "/usr/local/lib/python3.11/dist-packages/mlxtend/frequent_patterns/fpcommon.py:161: DeprecationWarning: DataFrames with non-bool types result in worse computationalperformance and their support might be discontinued in the future.Please use a DataFrame with bool type\n",
            "  warnings.warn(\n"
          ]
        }
      ]
    },
    {
      "cell_type": "markdown",
      "source": [
        "# **5. 머신러닝 모델링**\n",
        "🔹 선형 회귀 (Linear Regression)"
      ],
      "metadata": {
        "id": "7Ty-gxxoNHed"
      }
    },
    {
      "cell_type": "code",
      "source": [
        "import pandas as pd\n",
        "\n",
        "# 샘플 데이터 생성 (올바른 컬럼명 확인)\n",
        "data = {\n",
        "    \"수입\": [3500, 4200, 2900, 5600, 6100],\n",
        "    \"지출\": [2500, 2700, 2100, 3200, 4100]\n",
        "}\n",
        "df = pd.DataFrame(data)\n",
        "\n",
        "# ✅ 컬럼 목록 확인\n",
        "print(\"데이터프레임 컬럼 목록:\", df.columns)\n",
        "\n",
        "# ✅ 컬럼명 정리 (공백 제거)\n",
        "df.columns = df.columns.str.strip()\n",
        "\n",
        "# ✅ 데이터 확인\n",
        "print(df.head())\n",
        "\n",
        "# ✅ 데이터 로드 및 분할\n",
        "if \"수입\" in df.columns and \"지출\" in df.columns:\n",
        "    X = df[['수입']]\n",
        "    y = df['지출']\n",
        "else:\n",
        "    print(\"⚠️ '수입' 또는 '지출' 컬럼이 존재하지 않습니다.\")\n",
        "\n",
        "print(\"✅ 데이터 처리 완료\")\n"
      ],
      "metadata": {
        "colab": {
          "base_uri": "https://localhost:8080/"
        },
        "id": "ttD5xuJwNKiv",
        "outputId": "fb1f723f-ec1f-4ee8-eed3-d796dfc4d86b"
      },
      "execution_count": null,
      "outputs": [
        {
          "output_type": "stream",
          "name": "stdout",
          "text": [
            "데이터프레임 컬럼 목록: Index(['수입', '지출'], dtype='object')\n",
            "     수입    지출\n",
            "0  3500  2500\n",
            "1  4200  2700\n",
            "2  2900  2100\n",
            "3  5600  3200\n",
            "4  6100  4100\n",
            "✅ 데이터 처리 완료\n"
          ]
        }
      ]
    },
    {
      "cell_type": "markdown",
      "source": [
        "# **🔹 의사결정나무 (Decision Tree)**"
      ],
      "metadata": {
        "id": "ldWxR89GNPpg"
      }
    },
    {
      "cell_type": "code",
      "source": [
        "import pandas as pd\n",
        "from sklearn.model_selection import train_test_split\n",
        "from sklearn.tree import DecisionTreeClassifier\n",
        "\n",
        "# ✅ 데이터 준비\n",
        "data = {\n",
        "    \"수입\": [3500, 4200, 2900, 5600, 6100, 7000, 8000, 9000, 10000, 11000],\n",
        "    \"지출\": [2500, 2700, 2100, 3200, 4100, 5000, 6000, 7000, 8000, 9000]\n",
        "}\n",
        "df = pd.DataFrame(data)\n",
        "\n",
        "# ✅ 컬럼명 확인\n",
        "print(\"데이터프레임 컬럼 목록:\", df.columns)\n",
        "\n",
        "# ✅ train_test_split을 이용한 데이터 분리\n",
        "X = df[['수입']]  # 독립 변수\n",
        "y = df['지출']    # 종속 변수\n",
        "X_train, X_test, y_train, y_test = train_test_split(X, y, test_size=0.2, random_state=42)\n",
        "\n",
        "# ✅ 의사결정트리 모델 학습\n",
        "clf = DecisionTreeClassifier()\n",
        "clf.fit(X_train, y_train)\n",
        "\n",
        "# ✅ 예측 수행\n",
        "y_pred = clf.predict(X_test)\n",
        "print(\"예측 결과:\", y_pred)\n"
      ],
      "metadata": {
        "colab": {
          "base_uri": "https://localhost:8080/"
        },
        "id": "kHCPzO-4NSv1",
        "outputId": "fe072eef-9ebf-4867-ded1-7fc089bb11d6"
      },
      "execution_count": null,
      "outputs": [
        {
          "output_type": "stream",
          "name": "stdout",
          "text": [
            "데이터프레임 컬럼 목록: Index(['수입', '지출'], dtype='object')\n",
            "예측 결과: [7000 2500]\n"
          ]
        }
      ]
    },
    {
      "cell_type": "markdown",
      "source": [
        "# **6. 고급 알고리즘 및 최적화**\n",
        "**힙 (Heap)**: 우선순위 큐로 사용됨\n",
        "\n",
        "**다익스트라 알고리즘 (Dijkstra’s Algorithm)**: 최단 경로 탐색"
      ],
      "metadata": {
        "id": "fQHouUO4NyNr"
      }
    },
    {
      "cell_type": "code",
      "source": [
        "import heapq\n",
        "\n",
        "graph = {\n",
        "    'A': [('B', 1), ('C', 4)],\n",
        "    'B': [('C', 2), ('D', 5)],\n",
        "    'C': [('D', 1)],\n",
        "    'D': []\n",
        "}\n",
        "\n",
        "def dijkstra(graph, start):\n",
        "    pq = []\n",
        "    heapq.heappush(pq, (0, start))\n",
        "    distances = {node: float('inf') for node in graph}\n",
        "    distances[start] = 0\n",
        "\n",
        "    while pq:\n",
        "        current_distance, current_node = heapq.heappop(pq)\n",
        "        for neighbor, weight in graph[current_node]:\n",
        "            distance = current_distance + weight\n",
        "            if distance < distances[neighbor]:\n",
        "                distances[neighbor] = distance\n",
        "                heapq.heappush(pq, (distance, neighbor))\n",
        "\n",
        "    return distances\n",
        "\n",
        "print(dijkstra(graph, 'A'))\n"
      ],
      "metadata": {
        "colab": {
          "base_uri": "https://localhost:8080/"
        },
        "id": "oabg6xNLN2Hz",
        "outputId": "9ed84101-d238-4a42-e6fe-8d153d80305c"
      },
      "execution_count": null,
      "outputs": [
        {
          "output_type": "stream",
          "name": "stdout",
          "text": [
            "{'A': 0, 'B': 1, 'C': 3, 'D': 4}\n"
          ]
        }
      ]
    },
    {
      "cell_type": "markdown",
      "source": [
        "# **🔥 머신러닝 모델링 (Machine Learning Modeling)**\n",
        "머신러닝 모델링은 데이터를 기반으로 패턴을 학습하고 예측하는 과정입니다.\n",
        "\n",
        "머신러닝 모델을 구축하는 과정은 데이터 전처리 → 모델 학습 → 평가 → 튜닝의 단계를 거칩니다."
      ],
      "metadata": {
        "id": "elXgwQigTAZn"
      }
    },
    {
      "cell_type": "markdown",
      "source": [
        "# **📌 1. 머신러닝 개요**\n",
        "\n",
        "머신러닝이란?\n",
        "\n",
        "머신러닝(Machine Learning)은 데이터를 통해 패턴을 학습하고 예측하는 인공지능 기법입니다.\n",
        "\n",
        "**지도 학습 (Supervised Learning)** → 정답이 있는 데이터로 학습 (예: 가격 예측, 스팸 분류)\n",
        "\n",
        "**비지도 학습 (Unsupervised Learning)** → 정답 없이 데이터의 구조를 파악 (예: 군집 분석, PCA)\n",
        "\n",
        "**강화 학습 (Reinforcement Learning)** → 보상을 기반으로 학습 (예: 알파고, 게임 AI)\n",
        "\n",
        "# **머신러닝 프로세스**\n",
        "\n",
        "1. 데이터 수집 및 전처리\n",
        " - 결측치 처리, 이상치 제거, 데이터 정규화\n",
        "2. 특성 선택 및 생성\n",
        "- 중요한 변수(feature) 선택, 차원 축소(PCA)\n",
        "3. 모델 학습 및 평가\n",
        "- 지도학습 모델 적용 (회귀, 분류)\n",
        "- 교차 검증(Cross Validation) 수행\n",
        "4. 모델 튜닝 및 최적화\n",
        "- 하이퍼파라미터 튜닝(GridSearchCV, RandomizedSearchCV)\n",
        "- 모델 배포 및 예측\n",
        "\n"
      ],
      "metadata": {
        "id": "55DB_TuFTHIE"
      }
    },
    {
      "cell_type": "markdown",
      "source": [
        "# **📌 2. 지도 학습 (Supervised Learning)**\n",
        "\n",
        "📌 2.1. 회귀 모델 (Regression)\n",
        "\n",
        "💡 개념:\n",
        "\n",
        "숫자 값을 예측하는 모델 (연속적인 데이터 예측)\n",
        "\n",
        "예: 집값 예측, 주가 예측, 매출 예측\n",
        "\n",
        "주요 알고리즘:\n",
        "\n",
        "- 선형 회귀 (Linear Regression)\n",
        "\n",
        "- 다항 회귀 (Polynomial Regression)\n",
        "\n",
        "- 랜덤 포레스트 회귀 (Random Forest Regressor)\n",
        "\n",
        "# **✅ 선형 회귀 모델 예제**"
      ],
      "metadata": {
        "id": "fggp-IKPTeW0"
      }
    },
    {
      "cell_type": "code",
      "source": [
        "import pandas as pd\n",
        "import numpy as np\n",
        "import matplotlib.pyplot as plt\n",
        "from sklearn.model_selection import train_test_split\n",
        "from sklearn.linear_model import LinearRegression\n",
        "from sklearn.metrics import mean_squared_error\n",
        "\n",
        "# 가상 데이터 생성\n",
        "data = {\n",
        "    \"광고비\": [100, 200, 300, 400, 500, 600, 700, 800],\n",
        "    \"매출\": [20, 40, 50, 65, 80, 85, 90, 120]\n",
        "}\n",
        "df = pd.DataFrame(data)\n",
        "\n",
        "# X, y 설정\n",
        "X = df[['광고비']]\n",
        "y = df['매출']\n",
        "\n",
        "# 데이터 분리 (80% 학습, 20% 테스트)\n",
        "X_train, X_test, y_train, y_test = train_test_split(X, y, test_size=0.2, random_state=42)\n",
        "\n",
        "# 선형 회귀 모델 학습\n",
        "model = LinearRegression()\n",
        "model.fit(X_train, y_train)\n",
        "\n",
        "# 예측\n",
        "y_pred = model.predict(X_test)\n",
        "\n",
        "# 모델 평가\n",
        "mse = mean_squared_error(y_test, y_pred)\n",
        "print(f\"📊 MSE(평균 제곱 오차): {mse}\")\n",
        "\n",
        "# 데이터 시각화\n",
        "plt.scatter(X, y, color=\"blue\", label=\"Actual Data\")\n",
        "plt.plot(X_test, y_pred, color=\"red\", label=\"Prediction Line\")\n",
        "plt.xlabel(\"광고비\")\n",
        "plt.ylabel(\"매출\")\n",
        "plt.legend()\n",
        "plt.show()\n"
      ],
      "metadata": {
        "colab": {
          "base_uri": "https://localhost:8080/",
          "height": 660
        },
        "id": "cO788df2Ttfo",
        "outputId": "b266e2c0-c7d2-46c7-91cb-f040ef702558"
      },
      "execution_count": null,
      "outputs": [
        {
          "output_type": "stream",
          "name": "stdout",
          "text": [
            "📊 MSE(평균 제곱 오차): 13.84999999999992\n"
          ]
        },
        {
          "output_type": "stream",
          "name": "stderr",
          "text": [
            "/usr/local/lib/python3.11/dist-packages/IPython/core/pylabtools.py:151: UserWarning: Glyph 44305 (\\N{HANGUL SYLLABLE GWANG}) missing from font(s) DejaVu Sans.\n",
            "  fig.canvas.print_figure(bytes_io, **kw)\n",
            "/usr/local/lib/python3.11/dist-packages/IPython/core/pylabtools.py:151: UserWarning: Glyph 44256 (\\N{HANGUL SYLLABLE GO}) missing from font(s) DejaVu Sans.\n",
            "  fig.canvas.print_figure(bytes_io, **kw)\n",
            "/usr/local/lib/python3.11/dist-packages/IPython/core/pylabtools.py:151: UserWarning: Glyph 48708 (\\N{HANGUL SYLLABLE BI}) missing from font(s) DejaVu Sans.\n",
            "  fig.canvas.print_figure(bytes_io, **kw)\n",
            "/usr/local/lib/python3.11/dist-packages/IPython/core/pylabtools.py:151: UserWarning: Glyph 47588 (\\N{HANGUL SYLLABLE MAE}) missing from font(s) DejaVu Sans.\n",
            "  fig.canvas.print_figure(bytes_io, **kw)\n",
            "/usr/local/lib/python3.11/dist-packages/IPython/core/pylabtools.py:151: UserWarning: Glyph 52636 (\\N{HANGUL SYLLABLE CUL}) missing from font(s) DejaVu Sans.\n",
            "  fig.canvas.print_figure(bytes_io, **kw)\n"
          ]
        },
        {
          "output_type": "display_data",
          "data": {
            "text/plain": [
              "<Figure size 640x480 with 1 Axes>"
            ],
            "image/png": "[encoded data removed]"
          },
          "metadata": {}
        }
      ]
    },
    {
      "cell_type": "markdown",
      "source": [
        "# **📌 2.2. 분류 모델 (Classification)**\n",
        "💡 개념:\n",
        "\n",
        "데이터를 카테고리(클래스)로 분류하는 모델\n",
        "\n",
        "예: 스팸 메일 분류, 질병 진단, 고객 이탈 예측\n",
        "\n",
        "주요 알고리즘:\n",
        "\n",
        "- 로지스틱 회귀 (Logistic Regression)\n",
        "\n",
        "- 결정 트리 (Decision Tree)\n",
        "\n",
        "- 랜덤 포레스트 (Random Forest)\n",
        "\n",
        "- 서포트 벡터 머신 (SVM)\n",
        "\n",
        "# **✅ 결정 트리 (Decision Tree) 모델 예제**"
      ],
      "metadata": {
        "id": "xVOApbdITxDb"
      }
    },
    {
      "cell_type": "code",
      "source": [
        "from sklearn.tree import DecisionTreeClassifier\n",
        "from sklearn.model_selection import train_test_split\n",
        "from sklearn.metrics import accuracy_score\n",
        "\n",
        "# 데이터 생성\n",
        "data = {\n",
        "    \"나이\": [25, 30, 35, 40, 45, 50, 55, 60],\n",
        "    \"소득\": [3000, 4000, 5000, 6000, 7000, 8000, 9000, 10000],\n",
        "    \"구매여부\": [0, 0, 1, 1, 1, 1, 0, 0]  # 1: 구매, 0: 미구매\n",
        "}\n",
        "df = pd.DataFrame(data)\n",
        "\n",
        "# X, y 설정\n",
        "X = df[['나이', '소득']]\n",
        "y = df['구매여부']\n",
        "\n",
        "# 데이터 분리\n",
        "X_train, X_test, y_train, y_test = train_test_split(X, y, test_size=0.2, random_state=42)\n",
        "\n",
        "# 결정 트리 모델 학습\n",
        "clf = DecisionTreeClassifier()\n",
        "clf.fit(X_train, y_train)\n",
        "\n",
        "# 예측 및 평가\n",
        "y_pred = clf.predict(X_test)\n",
        "accuracy = accuracy_score(y_test, y_pred)\n",
        "print(f\"📊 정확도(Accuracy): {accuracy}\")\n"
      ],
      "metadata": {
        "colab": {
          "base_uri": "https://localhost:8080/"
        },
        "id": "X2awNW4VT-OO",
        "outputId": "b2d30a62-b9d9-4d89-8f01-14a265c66287"
      },
      "execution_count": null,
      "outputs": [
        {
          "output_type": "stream",
          "name": "stdout",
          "text": [
            "📊 정확도(Accuracy): 1.0\n"
          ]
        }
      ]
    },
    {
      "cell_type": "markdown",
      "source": [
        "# **📌 3. 비지도 학습 (Unsupervised Learning)**\n",
        "📌 3.1. 군집 분석 (Clustering)\n",
        "💡 개념:\n",
        "\n",
        "레이블 없이 데이터를 유사한 그룹(클러스터)으로 나누는 기법\n",
        "\n",
        "예: 고객 세분화, 이상 탐지\n",
        "\n",
        "주요 알고리즘:\n",
        "\n",
        "- K-Means Clustering\n",
        "\n",
        "- DBSCAN\n",
        "\n",
        "- 계층적 군집화 (Hierarchical Clustering)\n",
        "\n",
        "# **✅ K-Means 군집화 예제**\n"
      ],
      "metadata": {
        "id": "z7s4lbRfUD7T"
      }
    },
    {
      "cell_type": "code",
      "source": [
        "from sklearn.cluster import KMeans\n",
        "import matplotlib.pyplot as plt\n",
        "\n",
        "# 데이터 생성\n",
        "X = np.array([[1, 2], [1, 4], [1, 0], [4, 2], [4, 4], [4, 0]])\n",
        "\n",
        "# K-Means 모델 학습\n",
        "kmeans = KMeans(n_clusters=2, random_state=42)\n",
        "kmeans.fit(X)\n",
        "\n",
        "# 예측한 군집 라벨 출력\n",
        "print(\"📊 군집 라벨:\", kmeans.labels_)\n",
        "\n",
        "# 시각화\n",
        "plt.scatter(X[:, 0], X[:, 1], c=kmeans.labels_, cmap='rainbow')\n",
        "plt.scatter(kmeans.cluster_centers_[:, 0], kmeans.cluster_centers_[:, 1], marker='X', color='black')\n",
        "plt.show()\n"
      ],
      "metadata": {
        "colab": {
          "base_uri": "https://localhost:8080/",
          "height": 447
        },
        "id": "-nvvKskXUM-k",
        "outputId": "d71874d1-b420-47e3-d18c-18ed40d2a558"
      },
      "execution_count": null,
      "outputs": [
        {
          "output_type": "stream",
          "name": "stdout",
          "text": [
            "📊 군집 라벨: [0 1 0 1 1 0]\n"
          ]
        },
        {
          "output_type": "display_data",
          "data": {
            "text/plain": [
              "<Figure size 640x480 with 1 Axes>"
            ],
            "image/png": "[encoded data removed]"
          },
          "metadata": {}
        }
      ]
    },
    {
      "cell_type": "markdown",
      "source": [
        "# **📌 4. 모델 평가 및 최적화**\n",
        "📌 4.1. 모델 평가 지표\n",
        "머신러닝 모델을 평가하기 위해 다양한 성능 지표를 사용합니다.\n",
        "\n",
        "유형\t평가 지표\t설명\n",
        "\n",
        "회귀\tMSE\t평균 제곱 오차\n",
        "\n",
        "회귀\tRMSE\tMSE의 제곱근\n",
        "\n",
        "분류\t정확도 (Accuracy)\t전체 데이터 중 올바르게 분류한 비율\n",
        "\n",
        "분류\t정밀도 (Precision)\t실제 양성 중 모델이 양성으로 예측한 비율\n",
        "\n",
        "분류\t재현율 (Recall)\t실제 양성을 모델이 얼마나 잘 잡아냈는가\n"
      ],
      "metadata": {
        "id": "k5oEnOxQUSAI"
      }
    },
    {
      "cell_type": "code",
      "source": [
        "from sklearn.metrics import classification_report\n",
        "\n",
        "# 분류 모델 평가\n",
        "print(classification_report(y_test, y_pred))\n"
      ],
      "metadata": {
        "colab": {
          "base_uri": "https://localhost:8080/"
        },
        "id": "npQGNQbfUYfP",
        "outputId": "6cc6c3fd-7645-4635-ee4b-366fe0f4db85"
      },
      "execution_count": null,
      "outputs": [
        {
          "output_type": "stream",
          "name": "stdout",
          "text": [
            "              precision    recall  f1-score   support\n",
            "\n",
            "           0       1.00      1.00      1.00         1\n",
            "           1       1.00      1.00      1.00         1\n",
            "\n",
            "    accuracy                           1.00         2\n",
            "   macro avg       1.00      1.00      1.00         2\n",
            "weighted avg       1.00      1.00      1.00         2\n",
            "\n"
          ]
        }
      ]
    },
    {
      "cell_type": "markdown",
      "source": [
        "# **🔍 탐색 알고리즘 (DFS & BFS) 자세한 개념과 예제**\n",
        "탐색 알고리즘은 그래프에서 원하는 노드를 찾거나 경로를 탐색하는 기법입니다.\n",
        "\n",
        "대표적인 탐색 알고리즘은 깊이 우선 탐색(DFS)과 너비 우선 탐색(BFS) 입니다."
      ],
      "metadata": {
        "id": "45LzlyK4WUWw"
      }
    },
    {
      "cell_type": "markdown",
      "source": [
        "# **📌 1. 그래프(Graph)란?**\n",
        "그래프는 **노드(Node, 정점)와 간선(Edge, 연결선)**으로 이루어진 자료구조입니다.\n",
        "\n",
        "- 무방향 그래프: A ↔ B (A에서 B로 갈 수 있고, B에서 A로도 갈 수 있음)\n",
        "\n",
        "- 방향 그래프: A → B (A에서 B로 갈 수 있지만, B에서 A로 갈 수 없음)\n",
        "\n",
        "- 가중 그래프: 간선에 가중치(거리, 비용 등)가 부여됨\n",
        "\n",
        "✅ 그래프 표현 방식\n",
        "\n",
        "1. 인접 행렬 (Adjacency Matrix)\n",
        "\n",
        "- 2차원 배열(행렬)로 그래프를 표현\n",
        "\n",
        "- graph[i][j] = 1이면 i번 노드와 j번 노드가 연결됨\n",
        "\n",
        "- 메모리 낭비가 크지만, 빠르게 탐색 가능\n",
        "\n",
        "2. 인접 리스트 (Adjacency List)\n",
        "\n",
        "- 연결된 노드만 저장하는 방식 (dict or list 사용)\n",
        "\n",
        "- 메모리 효율적, 탐색 속도는 행렬보다 느림"
      ],
      "metadata": {
        "id": "aSS8Cit6WapF"
      }
    },
    {
      "cell_type": "markdown",
      "source": [
        "# **📌 2. DFS (Depth-First Search, 깊이 우선 탐색)**\n",
        "DFS는 한 방향으로 깊게 탐색하다가 더 이상 갈 곳이 없으면 백트래킹(Backtracking)하여 다른 경로를 탐색하는 방식입니다.\n",
        "\n",
        "✅ DFS 특징\n",
        "\n",
        "✔ 한 번 방문한 노드는 다시 방문하지 않음\n",
        "\n",
        "✔ 스택(Stack, 재귀 함수) 사용\n",
        "\n",
        "✔ 경로 탐색, 미로 찾기, 백트래킹 문제에 유용함\n",
        "\n"
      ],
      "metadata": {
        "id": "PnSCFwBFWsf3"
      }
    },
    {
      "cell_type": "markdown",
      "source": [
        "# **🔹 DFS 구현 방법**\n",
        "1️⃣ 스택(Stack) 활용 (반복문 방식)\n",
        "\n",
        "2️⃣ 재귀(Recursion) 활용 (재귀 함수 방식)\n",
        "\n",
        "# **✅ DFS 구현 (재귀 방식)**"
      ],
      "metadata": {
        "id": "_xCgs6ZSWzYY"
      }
    },
    {
      "cell_type": "code",
      "source": [
        "# 그래프 (인접 리스트 방식)\n",
        "graph = {\n",
        "    'A': ['B', 'C'],\n",
        "    'B': ['A', 'D', 'E'],\n",
        "    'C': ['A', 'F'],\n",
        "    'D': ['B'],\n",
        "    'E': ['B', 'F'],\n",
        "    'F': ['C', 'E']\n",
        "}\n",
        "\n",
        "# 방문한 노드를 저장할 집합 (set 사용)\n",
        "visited = set()\n",
        "\n",
        "# DFS 함수 정의\n",
        "def dfs(node):\n",
        "    if node not in visited:\n",
        "        print(node, end=\" \")  # 방문한 노드 출력\n",
        "        visited.add(node)  # 방문 처리\n",
        "        for neighbor in graph[node]:  # 현재 노드의 인접 노드 탐색\n",
        "            dfs(neighbor)\n",
        "\n",
        "# DFS 실행\n",
        "print(\"DFS 탐색 순서:\")\n",
        "dfs('A')\n"
      ],
      "metadata": {
        "colab": {
          "base_uri": "https://localhost:8080/"
        },
        "id": "1WxXJK0nW8aW",
        "outputId": "13efd841-3b15-49fb-ba7b-4e880edb904e"
      },
      "execution_count": null,
      "outputs": [
        {
          "output_type": "stream",
          "name": "stdout",
          "text": [
            "DFS 탐색 순서:\n",
            "A B D E F C "
          ]
        }
      ]
    },
    {
      "cell_type": "markdown",
      "source": [
        "✔ DFS는 한 방향으로 계속 탐색한 후, 더 이상 탐색할 곳이 없으면 백트래킹합니다.\n",
        "\n",
        "✔ 재귀를 활용하여 간결하게 구현할 수 있습니다.\n",
        "\n",
        "# **✅ DFS 구현 (스택 방식)**"
      ],
      "metadata": {
        "id": "tFNo8lSoW_4e"
      }
    },
    {
      "cell_type": "code",
      "source": [
        "def dfs_stack(start):\n",
        "    visited = set()  # 방문한 노드 저장\n",
        "    stack = [start]  # 스택 초기화\n",
        "\n",
        "    while stack:\n",
        "        node = stack.pop()  # 스택에서 노드 꺼내기\n",
        "        if node not in visited:\n",
        "            print(node, end=\" \")  # 방문한 노드 출력\n",
        "            visited.add(node)\n",
        "            stack.extend(reversed(graph[node]))  # 방문할 노드 추가\n",
        "\n",
        "print(\"DFS 탐색 순서 (스택 사용):\")\n",
        "dfs_stack('A')\n"
      ],
      "metadata": {
        "colab": {
          "base_uri": "https://localhost:8080/"
        },
        "id": "7_b03prHXGRz",
        "outputId": "c5b7b21c-d7ce-4f54-ba18-72517421f86d"
      },
      "execution_count": null,
      "outputs": [
        {
          "output_type": "stream",
          "name": "stdout",
          "text": [
            "DFS 탐색 순서 (스택 사용):\n",
            "A B D E F C "
          ]
        }
      ]
    },
    {
      "cell_type": "markdown",
      "source": [
        "# **📌 3. BFS (Breadth-First Search, 너비 우선 탐색)**\n",
        "BFS는 가까운 노드부터 차례대로 탐색하는 방식입니다.\n",
        "\n",
        "✅ BFS 특징\n",
        "\n",
        "✔ 최단 경로 탐색에 적합 (미로 찾기, 길 찾기)\n",
        "\n",
        "✔ 큐(Queue) 사용\n",
        "\n",
        "✔ 레벨 별로 탐색 (같은 레벨의 모든 노드를 방문 후 다음 레벨로 이동)\n",
        "\n",
        "# **✅ BFS 구현 (큐 활용)**"
      ],
      "metadata": {
        "id": "aLw5irn5XId8"
      }
    },
    {
      "cell_type": "code",
      "source": [
        "from collections import deque\n",
        "\n",
        "def bfs(start):\n",
        "    visited = set()  # 방문한 노드 저장\n",
        "    queue = deque([start])  # 큐 초기화\n",
        "\n",
        "    while queue:\n",
        "        node = queue.popleft()  # 큐에서 노드 꺼내기\n",
        "        if node not in visited:\n",
        "            print(node, end=\" \")  # 방문한 노드 출력\n",
        "            visited.add(node)\n",
        "            queue.extend(graph[node])  # 방문할 노드 추가\n",
        "\n",
        "print(\"BFS 탐색 순서:\")\n",
        "bfs('A')\n"
      ],
      "metadata": {
        "colab": {
          "base_uri": "https://localhost:8080/"
        },
        "id": "0QYZMZKtXO8K",
        "outputId": "877cdfd3-f6b1-4196-b3f0-01ebd4c1cd4d"
      },
      "execution_count": null,
      "outputs": [
        {
          "output_type": "stream",
          "name": "stdout",
          "text": [
            "BFS 탐색 순서:\n",
            "A B C D E F "
          ]
        }
      ]
    },
    {
      "cell_type": "markdown",
      "source": [
        "✔ BFS는 DFS와 다르게 \"넓게 탐색\"하며, 같은 레벨의 노드를 먼저 방문함.\n",
        "\n",
        "✔ 큐(Queue)를 사용하여 탐색 순서를 유지."
      ],
      "metadata": {
        "id": "aqeTfp-GXRlH"
      }
    },
    {
      "cell_type": "markdown",
      "source": [
        "# **📌 4. DFS vs BFS 비교**\n",
        "알고리즘 -\t(데이터 구조) -\t(방문 순서) -\t사용 예제\n",
        "\n",
        "DFS -\t스택(Stack) - 깊이 우선 탐색 - 미로 찾기, 백트래킹\n",
        "\n",
        "BFS - 큐(Queue) - 너비 우선 탐색 - 최단 거리 탐색 (길 찾기)\n",
        "\n",
        "\n",
        "# **📌 5. DFS & BFS 예제: 미로 찾기**"
      ],
      "metadata": {
        "id": "XNnfo14qXT6i"
      }
    },
    {
      "cell_type": "code",
      "source": [
        "from collections import deque\n",
        "\n",
        "# 미로 (0: 이동 가능, 1: 벽)\n",
        "maze = [\n",
        "    [0, 1, 0, 0, 0],\n",
        "    [0, 1, 0, 1, 0],\n",
        "    [0, 1, 0, 1, 0],\n",
        "    [0, 0, 0, 1, 0],\n",
        "    [1, 1, 0, 0, 0]\n",
        "]\n",
        "\n",
        "dx = [-1, 1, 0, 0]  # 상하좌우 이동\n",
        "dy = [0, 0, -1, 1]\n",
        "\n",
        "def bfs_maze(start_x, start_y):\n",
        "    queue = deque([(start_x, start_y)])\n",
        "    visited = set()\n",
        "    visited.add((start_x, start_y))\n",
        "\n",
        "    while queue:\n",
        "        x, y = queue.popleft()\n",
        "        print(f\"({x}, {y})\", end=\" \")\n",
        "\n",
        "        for i in range(4):\n",
        "            nx, ny = x + dx[i], y + dy[i]\n",
        "\n",
        "            if 0 <= nx < 5 and 0 <= ny < 5 and maze[nx][ny] == 0 and (nx, ny) not in visited:\n",
        "                queue.append((nx, ny))\n",
        "                visited.add((nx, ny))\n",
        "\n",
        "print(\"\\nBFS 미로 탐색 경로:\")\n",
        "bfs_maze(0, 0)  # (0, 0)에서 출발\n"
      ],
      "metadata": {
        "colab": {
          "base_uri": "https://localhost:8080/"
        },
        "id": "5UZjAfKIX1TR",
        "outputId": "fbaa91c8-32c1-45c7-9ff3-932fbb44f1f7"
      },
      "execution_count": null,
      "outputs": [
        {
          "output_type": "stream",
          "name": "stdout",
          "text": [
            "\n",
            "BFS 미로 탐색 경로:\n",
            "(0, 0) (1, 0) (2, 0) (3, 0) (3, 1) (3, 2) (2, 2) (4, 2) (1, 2) (4, 3) (0, 2) (4, 4) (0, 3) (3, 4) (0, 4) (2, 4) (1, 4) "
          ]
        }
      ]
    },
    {
      "cell_type": "markdown",
      "source": [
        "✔ BFS를 사용하여 최단 거리로 미로를 탐색할 수 있음.\n",
        "\n",
        "✔ DFS를 사용하면 특정 경로로 먼저 탐색하고 돌아오는 경우가 발생할 수 있음."
      ],
      "metadata": {
        "id": "e5IpXou-X36p"
      }
    },
    {
      "cell_type": "markdown",
      "source": [
        "\n",
        "# **🎯 결론**\n",
        "1️⃣ DFS: 깊이 우선 탐색, 스택/재귀 사용, 경로 찾기 및 백트래킹에 유용\n",
        "\n",
        "2️⃣ BFS: 너비 우선 탐색, 큐 사용, **최단 거리 탐색 (미로 찾기 등)**에 적합\n",
        "\n",
        "3️⃣ DFS/BFS의 차이점을 이해하고 문제에 맞게 선택! 🚀\n",
        "\n",
        "💡 실제 프로젝트에서 BFS는 최단 경로 탐색, DFS는 탐색 트리 활용에 많이 사용됩니다.\n",
        "\n",
        "\n",
        "\n",
        "\n",
        "\n",
        "\n",
        "\n"
      ],
      "metadata": {
        "id": "eT8DIHIAX6sa"
      }
    }
  ]
}